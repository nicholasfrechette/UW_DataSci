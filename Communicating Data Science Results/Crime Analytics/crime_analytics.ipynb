{
 "cells": [
  {
   "cell_type": "markdown",
   "metadata": {},
   "source": [
    "# Crime Analysis of San Francisco Summer 2014\n",
    "*Communicating Data Science Results* | Assignment 1 | Nicholas Frechette"
   ]
  },
  {
   "cell_type": "markdown",
   "metadata": {},
   "source": [
    "## Primary Finding: top two crimes during summer 2014 are reported most commonly at night"
   ]
  },
  {
   "cell_type": "markdown",
   "metadata": {},
   "source": [
    "Data has been manipulated using Python with Pandas. Plots have been created with Seaborn. Report generated using Jupyter. All code is available below for reproducibility."
   ]
  },
  {
   "cell_type": "code",
   "execution_count": 3,
   "metadata": {
    "collapsed": true
   },
   "outputs": [],
   "source": [
    "import numpy as np\n",
    "import pandas as pd\n",
    "import matplotlib\n",
    "import matplotlib.pyplot as plt\n",
    "import seaborn as sns\n",
    "%matplotlib inline\n",
    "\n",
    "sf = pd.read_csv('sanfrancisco_incidents_summer_2014.csv')"
   ]
  },
  {
   "cell_type": "markdown",
   "metadata": {},
   "source": [
    "Let's clear out some less useful data and view a sample slice"
   ]
  },
  {
   "cell_type": "code",
   "execution_count": 4,
   "metadata": {},
   "outputs": [
    {
     "data": {
      "text/html": [
       "<div>\n",
       "<style>\n",
       "    .dataframe thead tr:only-child th {\n",
       "        text-align: right;\n",
       "    }\n",
       "\n",
       "    .dataframe thead th {\n",
       "        text-align: left;\n",
       "    }\n",
       "\n",
       "    .dataframe tbody tr th {\n",
       "        vertical-align: top;\n",
       "    }\n",
       "</style>\n",
       "<table border=\"1\" class=\"dataframe\">\n",
       "  <thead>\n",
       "    <tr style=\"text-align: right;\">\n",
       "      <th></th>\n",
       "      <th>Category</th>\n",
       "      <th>Descript</th>\n",
       "      <th>DayOfWeek</th>\n",
       "      <th>Date</th>\n",
       "      <th>Time</th>\n",
       "      <th>PdDistrict</th>\n",
       "      <th>Resolution</th>\n",
       "      <th>Address</th>\n",
       "      <th>X</th>\n",
       "      <th>Y</th>\n",
       "    </tr>\n",
       "  </thead>\n",
       "  <tbody>\n",
       "    <tr>\n",
       "      <th>16794</th>\n",
       "      <td>OTHER OFFENSES</td>\n",
       "      <td>TRAFFIC VIOLATION</td>\n",
       "      <td>Friday</td>\n",
       "      <td>07/11/2014</td>\n",
       "      <td>07:45</td>\n",
       "      <td>BAYVIEW</td>\n",
       "      <td>NONE</td>\n",
       "      <td>3RD ST / WALLACE AV</td>\n",
       "      <td>-122.392899</td>\n",
       "      <td>37.728490</td>\n",
       "    </tr>\n",
       "    <tr>\n",
       "      <th>26433</th>\n",
       "      <td>LARCENY/THEFT</td>\n",
       "      <td>GRAND THEFT PICKPOCKET</td>\n",
       "      <td>Monday</td>\n",
       "      <td>06/09/2014</td>\n",
       "      <td>14:00</td>\n",
       "      <td>TENDERLOIN</td>\n",
       "      <td>NONE</td>\n",
       "      <td>100 Block of OFARRELL ST</td>\n",
       "      <td>-122.407244</td>\n",
       "      <td>37.786565</td>\n",
       "    </tr>\n",
       "    <tr>\n",
       "      <th>17947</th>\n",
       "      <td>WARRANTS</td>\n",
       "      <td>ENROUTE TO OUTSIDE JURISDICTION</td>\n",
       "      <td>Monday</td>\n",
       "      <td>07/07/2014</td>\n",
       "      <td>13:19</td>\n",
       "      <td>MISSION</td>\n",
       "      <td>ARREST, BOOKED</td>\n",
       "      <td>2100 Block of MARKET ST</td>\n",
       "      <td>-122.430019</td>\n",
       "      <td>37.766831</td>\n",
       "    </tr>\n",
       "    <tr>\n",
       "      <th>17393</th>\n",
       "      <td>WARRANTS</td>\n",
       "      <td>ENROUTE TO ADULT AUTHORITY</td>\n",
       "      <td>Wednesday</td>\n",
       "      <td>07/09/2014</td>\n",
       "      <td>09:50</td>\n",
       "      <td>TARAVAL</td>\n",
       "      <td>ARREST, BOOKED</td>\n",
       "      <td>GREAT HY / SLOAT BL</td>\n",
       "      <td>-122.506714</td>\n",
       "      <td>37.735466</td>\n",
       "    </tr>\n",
       "    <tr>\n",
       "      <th>16466</th>\n",
       "      <td>WARRANTS</td>\n",
       "      <td>WARRANT ARREST</td>\n",
       "      <td>Saturday</td>\n",
       "      <td>07/12/2014</td>\n",
       "      <td>09:55</td>\n",
       "      <td>CENTRAL</td>\n",
       "      <td>ARREST, BOOKED</td>\n",
       "      <td>GREENWICH ST / COLUMBUS AV</td>\n",
       "      <td>-122.412545</td>\n",
       "      <td>37.801931</td>\n",
       "    </tr>\n",
       "  </tbody>\n",
       "</table>\n",
       "</div>"
      ],
      "text/plain": [
       "             Category                         Descript  DayOfWeek        Date  \\\n",
       "16794  OTHER OFFENSES                TRAFFIC VIOLATION     Friday  07/11/2014   \n",
       "26433   LARCENY/THEFT           GRAND THEFT PICKPOCKET     Monday  06/09/2014   \n",
       "17947        WARRANTS  ENROUTE TO OUTSIDE JURISDICTION     Monday  07/07/2014   \n",
       "17393        WARRANTS       ENROUTE TO ADULT AUTHORITY  Wednesday  07/09/2014   \n",
       "16466        WARRANTS                   WARRANT ARREST   Saturday  07/12/2014   \n",
       "\n",
       "        Time  PdDistrict      Resolution                     Address  \\\n",
       "16794  07:45     BAYVIEW            NONE         3RD ST / WALLACE AV   \n",
       "26433  14:00  TENDERLOIN            NONE    100 Block of OFARRELL ST   \n",
       "17947  13:19     MISSION  ARREST, BOOKED     2100 Block of MARKET ST   \n",
       "17393  09:50     TARAVAL  ARREST, BOOKED         GREAT HY / SLOAT BL   \n",
       "16466  09:55     CENTRAL  ARREST, BOOKED  GREENWICH ST / COLUMBUS AV   \n",
       "\n",
       "                X          Y  \n",
       "16794 -122.392899  37.728490  \n",
       "26433 -122.407244  37.786565  \n",
       "17947 -122.430019  37.766831  \n",
       "17393 -122.506714  37.735466  \n",
       "16466 -122.412545  37.801931  "
      ]
     },
     "execution_count": 4,
     "metadata": {},
     "output_type": "execute_result"
    }
   ],
   "source": [
    "sf.drop([\"IncidntNum\", \"Location\", \"PdId\"], axis=1, inplace=True, errors=\"ignore\")\n",
    "sf.sample(n=5)"
   ]
  },
  {
   "cell_type": "markdown",
   "metadata": {},
   "source": [
    "## Temporal Analysis\n",
    "Let's have a look at the most common crimes reported:"
   ]
  },
  {
   "cell_type": "code",
   "execution_count": 5,
   "metadata": {},
   "outputs": [
    {
     "name": "stdout",
     "output_type": "stream",
     "text": [
      "GRAND THEFT FROM LOCKED AUTO      3766\n",
      "STOLEN AUTOMOBILE                 1350\n",
      "LOST PROPERTY                     1202\n",
      "PETTY THEFT OF PROPERTY           1125\n",
      "WARRANT ARREST                     980\n",
      "PETTY THEFT FROM LOCKED AUTO       955\n",
      "BATTERY                            903\n",
      "FOUND PROPERTY                     757\n",
      "GRAND THEFT FROM UNLOCKED AUTO     681\n",
      "Name: Descript, dtype: int64\n"
     ]
    }
   ],
   "source": [
    "topninedescripts = sf['Descript'].value_counts().head(9)\n",
    "print(topninedescripts)"
   ]
  },
  {
   "cell_type": "markdown",
   "metadata": {},
   "source": [
    "Let's look at the time of day crimes are reported:\n",
    "    to do so, we index the time stamp data, adding a new column ('Hour') to our dataframe;\n",
    "    then we plot Crime Reports vs Time of Day with Seaborn's countplot."
   ]
  },
  {
   "cell_type": "code",
   "execution_count": 7,
   "metadata": {},
   "outputs": [
    {
     "data": {
      "text/plain": [
       "<matplotlib.text.Text at 0x112da2f60>"
      ]
     },
     "execution_count": 7,
     "metadata": {},
     "output_type": "execute_result"
    },
    {
     "data": {
      "image/png": "[encoded data removed]",
      "text/plain": [
       "<matplotlib.figure.Figure at 0x112eef4e0>"
      ]
     },
     "metadata": {},
     "output_type": "display_data"
    }
   ],
   "source": [
    "index = pd.DatetimeIndex(sf['Time'])\n",
    "sf['Hour']=index.hour\n",
    "sns.countplot('Hour',data=sf,order=range(24))\n",
    "plt.xlabel(\"Time of Day\", fontsize=14)\n",
    "plt.ylabel(\"Number of Incidents Reported\", fontsize=14)\n",
    "plt.title(\"Plot 1: crime reported by TOD\",fontsize=18)"
   ]
  },
  {
   "cell_type": "markdown",
   "metadata": {},
   "source": [
    "We can see a trend in overall crime reports suggesting a global maxima in the early to mid evening.\n",
    "Reports are at a low by 4am, and generally a midday spike in crime reports happens when folks are out to lunch.\n",
    "\n",
    "Let's investiage how the most common report descriptors correlate with:"
   ]
  },
  {
   "cell_type": "code",
   "execution_count": 8,
   "metadata": {},
   "outputs": [
    {
     "data": {
      "text/plain": [
       "<matplotlib.text.Text at 0x112d399e8>"
      ]
     },
     "execution_count": 8,
     "metadata": {},
     "output_type": "execute_result"
    },
    {
     "data": {
      "image/png": "[encoded data removed]",
      "text/plain": [
       "<matplotlib.figure.Figure at 0x10d051c50>"
      ]
     },
     "metadata": {},
     "output_type": "display_data"
    }
   ],
   "source": [
    "sns.countplot('Hour',data=sf[sf['Descript']=='GRAND THEFT FROM LOCKED AUTO'],order=range(24))\n",
    "plt.xlabel(\"Time of Day\", fontsize=14)\n",
    "plt.ylabel(\"No. of Crime Incidents Reported\", fontsize=14)\n",
    "plt.title(\"Plot 2: GTA (Locked) reported by TOD\",fontsize=18)"
   ]
  },
  {
   "cell_type": "markdown",
   "metadata": {},
   "source": [
    "Grand theft larceny from locked automobiles is much more active at night. Can we imagine the same is true for crime number two?"
   ]
  },
  {
   "cell_type": "code",
   "execution_count": 9,
   "metadata": {},
   "outputs": [
    {
     "data": {
      "text/plain": [
       "<matplotlib.text.Text at 0x1164d31d0>"
      ]
     },
     "execution_count": 9,
     "metadata": {},
     "output_type": "execute_result"
    },
    {
     "data": {
      "image/png": "[encoded data removed]",
      "text/plain": [
       "<matplotlib.figure.Figure at 0x112d8f2e8>"
      ]
     },
     "metadata": {},
     "output_type": "display_data"
    }
   ],
   "source": [
    "sns.countplot('Hour',data=sf[sf['Descript']=='STOLEN AUTOMOBILE'],order=range(24))\n",
    "plt.xlabel(\"Time of Day\", fontsize=14)\n",
    "plt.ylabel(\"No. of Crime Incidents Reported\", fontsize=14)\n",
    "plt.title(\"Plot 3: Stolen Automobile reported by TOD\",fontsize=18)"
   ]
  },
  {
   "cell_type": "code",
   "execution_count": null,
   "metadata": {
    "collapsed": true
   },
   "outputs": [],
   "source": [
    "We can see clear evidence of increased criminal activity at night during these summer months."
   ]
  }
 ],
 "metadata": {
  "kernelspec": {
   "display_name": "Python 3",
   "language": "python",
   "name": "python3"
  },
  "language_info": {
   "codemirror_mode": {
    "name": "ipython",
    "version": 3
   },
   "file_extension": ".py",
   "mimetype": "text/x-python",
   "name": "python",
   "nbconvert_exporter": "python",
   "pygments_lexer": "ipython3",
   "version": "3.6.1"
  }
 },
 "nbformat": 4,
 "nbformat_minor": 2
}
