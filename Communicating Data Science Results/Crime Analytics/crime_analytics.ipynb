"""
@author: Nicholas Frechette
Sun July 9 2017
"""

import os
import pandas as pd
import numpy as np
import matplotlib.pyplot as plt
import matplotlib.cm as cm
import matplotlib.colorbar as cbar

sf = pd.read_csv('sanfrancisco_incidents_summer_2014.csv')

sf.drop(["IncidntNum", "Location", "PdId"], axis=1, inplace=True, errors="ignore")

print(sf.sample(n=5))
