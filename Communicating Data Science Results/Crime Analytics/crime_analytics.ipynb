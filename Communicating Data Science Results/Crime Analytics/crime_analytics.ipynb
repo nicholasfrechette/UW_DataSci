"""
@author: Nicholas Frechette
Sun July 9 2017
"""

import pandas as pd

sf = pd.read_csv('sanfrancisco_incidents_summer_2014.csv')
